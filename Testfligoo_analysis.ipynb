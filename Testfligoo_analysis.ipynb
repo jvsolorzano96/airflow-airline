{
 "cells": [
  {
   "cell_type": "code",
   "execution_count": 57,
   "id": "0fe9d56f",
   "metadata": {},
   "outputs": [],
   "source": [
    "import pandas as pd\n",
    "import psycopg2\n",
    "from psycopg2 import sql\n",
    "import os\n",
    "import datetime\n",
    "import requests\n",
    "import geopandas as gpd\n",
    "import folium\n",
    "import matplotlib.pyplot as plt\n"
   ]
  },
  {
   "cell_type": "code",
   "execution_count": 41,
   "id": "4be66b77",
   "metadata": {},
   "outputs": [],
   "source": [
    "def get_dataframe_from_query(query, host, port, dbname, user, password):\n",
    "\n",
    "    try:\n",
    "        # Connect to the PostgreSQL database\n",
    "        conn = psycopg2.connect(\n",
    "            dbname=dbname,\n",
    "            user=user,\n",
    "            password=password,\n",
    "            host=host,\n",
    "            port=port\n",
    "        )\n",
    "        print(\"Conexion exitosa\")\n",
    "        # Execute the query and fetch the results into a DataFrame\n",
    "        df = pd.read_sql_query(query, conn)\n",
    "        print(\"Dataframe creado\")\n",
    "        # Close the connection\n",
    "        conn.close()\n",
    "        \n",
    "        return df\n",
    "    except Exception as e:\n",
    "        print(f\"Error connecting to the database: {e}\")\n",
    "        return None\n",
    "    \n",
    "def get_right_side_of_hyphen(s):\n",
    "    parts = s.split('-')\n",
    "    if len(parts) > 1:\n",
    "        return parts[1]\n",
    "    else:\n",
    "        return None\n",
    "    \n",
    "def get_coordinates(city, username):\n",
    "    base_url = 'http://api.geonames.org/searchJSON'\n",
    "    params = {\n",
    "        'q': city,\n",
    "        'maxRows': 1,\n",
    "        'username': username\n",
    "    }\n",
    "    \n",
    "    response = requests.get(base_url, params=params)\n",
    "    data = response.json()\n",
    "    \n",
    "    if data['geonames']:\n",
    "        lat = data['geonames'][0]['lat']\n",
    "        lng = data['geonames'][0]['lng']\n",
    "        return lat, lng\n",
    "    else:\n",
    "        return None, None"
   ]
  },
  {
   "cell_type": "code",
   "execution_count": 10,
   "id": "a58dacde",
   "metadata": {},
   "outputs": [],
   "source": [
    "dbname = os.getenv('POSTGRES_DB')\n",
    "user = os.getenv('POSTGRES_USER')\n",
    "password = os.getenv('POSTGRES_PASSWORD')\n",
    "host = os.getenv('POSTGRES_HOST')\n",
    "port = os.getenv('POSTGRES_PORT')"
   ]
  },
  {
   "cell_type": "code",
   "execution_count": 11,
   "id": "b594eeb0",
   "metadata": {},
   "outputs": [],
   "source": [
    "query = \"SELECT * FROM testdata\""
   ]
  },
  {
   "cell_type": "code",
   "execution_count": 12,
   "id": "af18246a",
   "metadata": {},
   "outputs": [
    {
     "name": "stdout",
     "output_type": "stream",
     "text": [
      "Conexion exitosa\n",
      "Dataframe creado\n"
     ]
    }
   ],
   "source": [
    "df = get_dataframe_from_query(query, host, port, dbname, user, password)"
   ]
  },
  {
   "cell_type": "code",
   "execution_count": 43,
   "id": "89528181",
   "metadata": {},
   "outputs": [],
   "source": [
    "username = \"vicente\"\n",
    "\n",
    "df[['latitude', 'longitude']] = df['departureCity'].apply(lambda x: pd.Series(get_coordinates(x, username)))\n"
   ]
  },
  {
   "cell_type": "code",
   "execution_count": 55,
   "id": "daa92bd5",
   "metadata": {},
   "outputs": [
    {
     "data": {
      "text/html": [
       "<div style=\"width:100%;\"><div style=\"position:relative;width:100%;height:0;padding-bottom:60%;\"><span style=\"color:#565656\">Make this Notebook Trusted to load map: File -> Trust Notebook</span><iframe srcdoc=\"&lt;!DOCTYPE html&gt;\n",
       "&lt;html&gt;\n",
       "&lt;head&gt;\n",
       "    \n",
       "    &lt;meta http-equiv=&quot;content-type&quot; content=&quot;text/html; charset=UTF-8&quot; /&gt;\n",
       "    \n",
       "        &lt;script&gt;\n",
       "            L_NO_TOUCH = false;\n",
       "            L_DISABLE_3D = false;\n",
       "        &lt;/script&gt;\n",
       "    \n",
       "    &lt;style&gt;html, body {width: 100%;height: 100%;margin: 0;padding: 0;}&lt;/style&gt;\n",
       "    &lt;style&gt;#map {position:absolute;top:0;bottom:0;right:0;left:0;}&lt;/style&gt;\n",
       "    &lt;script src=&quot;https://cdn.jsdelivr.net/npm/leaflet@1.9.3/dist/leaflet.js&quot;&gt;&lt;/script&gt;\n",
       "    &lt;script src=&quot;https://code.jquery.com/jquery-1.12.4.min.js&quot;&gt;&lt;/script&gt;\n",
       "    &lt;script src=&quot;https://cdn.jsdelivr.net/npm/bootstrap@5.2.2/dist/js/bootstrap.bundle.min.js&quot;&gt;&lt;/script&gt;\n",
       "    &lt;script src=&quot;https://cdnjs.cloudflare.com/ajax/libs/Leaflet.awesome-markers/2.0.2/leaflet.awesome-markers.js&quot;&gt;&lt;/script&gt;\n",
       "    &lt;link rel=&quot;stylesheet&quot; href=&quot;https://cdn.jsdelivr.net/npm/leaflet@1.9.3/dist/leaflet.css&quot;/&gt;\n",
       "    &lt;link rel=&quot;stylesheet&quot; href=&quot;https://cdn.jsdelivr.net/npm/bootstrap@5.2.2/dist/css/bootstrap.min.css&quot;/&gt;\n",
       "    &lt;link rel=&quot;stylesheet&quot; href=&quot;https://netdna.bootstrapcdn.com/bootstrap/3.0.0/css/bootstrap.min.css&quot;/&gt;\n",
       "    &lt;link rel=&quot;stylesheet&quot; href=&quot;https://cdn.jsdelivr.net/npm/@fortawesome/fontawesome-free@6.2.0/css/all.min.css&quot;/&gt;\n",
       "    &lt;link rel=&quot;stylesheet&quot; href=&quot;https://cdnjs.cloudflare.com/ajax/libs/Leaflet.awesome-markers/2.0.2/leaflet.awesome-markers.css&quot;/&gt;\n",
       "    &lt;link rel=&quot;stylesheet&quot; href=&quot;https://cdn.jsdelivr.net/gh/python-visualization/folium/folium/templates/leaflet.awesome.rotate.min.css&quot;/&gt;\n",
       "    \n",
       "            &lt;meta name=&quot;viewport&quot; content=&quot;width=device-width,\n",
       "                initial-scale=1.0, maximum-scale=1.0, user-scalable=no&quot; /&gt;\n",
       "            &lt;style&gt;\n",
       "                #map_bf46346fc7d7936f531eb10c57c9698e {\n",
       "                    position: relative;\n",
       "                    width: 100.0%;\n",
       "                    height: 100.0%;\n",
       "                    left: 0.0%;\n",
       "                    top: 0.0%;\n",
       "                }\n",
       "                .leaflet-container { font-size: 1rem; }\n",
       "            &lt;/style&gt;\n",
       "        \n",
       "    &lt;script src=&quot;https://cdn.jsdelivr.net/gh/python-visualization/folium@main/folium/templates/leaflet_heat.min.js&quot;&gt;&lt;/script&gt;\n",
       "&lt;/head&gt;\n",
       "&lt;body&gt;\n",
       "    \n",
       "    \n",
       "            &lt;div class=&quot;folium-map&quot; id=&quot;map_bf46346fc7d7936f531eb10c57c9698e&quot; &gt;&lt;/div&gt;\n",
       "        \n",
       "&lt;/body&gt;\n",
       "&lt;script&gt;\n",
       "    \n",
       "    \n",
       "            var map_bf46346fc7d7936f531eb10c57c9698e = L.map(\n",
       "                &quot;map_bf46346fc7d7936f531eb10c57c9698e&quot;,\n",
       "                {\n",
       "                    center: [0.0, 0.0],\n",
       "                    crs: L.CRS.EPSG3857,\n",
       "                    zoom: 2,\n",
       "                    zoomControl: true,\n",
       "                    preferCanvas: false,\n",
       "                }\n",
       "            );\n",
       "\n",
       "            \n",
       "\n",
       "        \n",
       "    \n",
       "            var tile_layer_fb74fbd4dd11e02d09cfcbe8d95f031f = L.tileLayer(\n",
       "                &quot;https://{s}.tile.openstreetmap.org/{z}/{x}/{y}.png&quot;,\n",
       "                {&quot;attribution&quot;: &quot;Data by \\u0026copy; \\u003ca target=\\&quot;_blank\\&quot; href=\\&quot;http://openstreetmap.org\\&quot;\\u003eOpenStreetMap\\u003c/a\\u003e, under \\u003ca target=\\&quot;_blank\\&quot; href=\\&quot;http://www.openstreetmap.org/copyright\\&quot;\\u003eODbL\\u003c/a\\u003e.&quot;, &quot;detectRetina&quot;: false, &quot;maxNativeZoom&quot;: 18, &quot;maxZoom&quot;: 18, &quot;minZoom&quot;: 0, &quot;noWrap&quot;: false, &quot;opacity&quot;: 1, &quot;subdomains&quot;: &quot;abc&quot;, &quot;tms&quot;: false}\n",
       "            ).addTo(map_bf46346fc7d7936f531eb10c57c9698e);\n",
       "        \n",
       "    \n",
       "            var heat_map_e5fa365e71fa25716ef27a138276f817 = L.heatLayer(\n",
       "                [[32.66568, -16.92547], [32.66568, -16.92547], [32.66568, -16.92547], [32.66568, -16.92547], [32.66568, -16.92547], [32.66568, -16.92547], [32.66568, -16.92547], [32.66568, -16.92547], [32.66568, -16.92547], [32.66568, -16.92547], [25.07725, 55.30927], [25.07725, 55.30927], [25.07725, 55.30927], [25.07725, 55.30927], [25.07725, 55.30927], [25.07725, 55.30927], [25.07725, 55.30927], [25.07725, 55.30927], [25.07725, 55.30927], [25.07725, 55.30927], [25.07725, 55.30927], [25.07725, 55.30927], [25.07725, 55.30927], [25.07725, 55.30927], [48.85341, 2.3488], [48.85341, 2.3488], [42.69751, 23.32415], [55.75222, 37.61556], [41.01384, 28.94966], [41.01384, 28.94966], [41.01384, 28.94966], [41.01384, 28.94966], [41.01384, 28.94966], [41.01384, 28.94966], [41.01384, 28.94966], [41.01384, 28.94966], [41.01384, 28.94966], [41.01384, 28.94966], [41.01384, 28.94966], [41.01384, 28.94966], [41.01384, 28.94966], [41.01384, 28.94966], [41.01384, 28.94966], [41.01384, 28.94966], [41.01384, 28.94966], [41.01384, 28.94966], [41.01384, 28.94966], [41.01384, 28.94966], [41.01384, 28.94966], [41.01384, 28.94966], [41.01384, 28.94966], [41.01384, 28.94966], [55.75222, 37.61556], [55.75222, 37.61556], [55.75222, 37.61556], [-12.46113, 130.84185], [-33.86785, 151.20732], [-12.46113, 130.84185], [-12.46113, 130.84185], [-26.20227, 28.04363], [-26.20227, 28.04363], [-26.20227, 28.04363], [-26.20227, 28.04363], [-26.20227, 28.04363], [-26.20227, 28.04363], [-26.20227, 28.04363], [-26.20227, 28.04363], [22.56263, 88.36304], [22.56263, 88.36304], [55.67594, 12.56553], [55.67594, 12.56553], [55.67594, 12.56553], [55.67594, 12.56553], [55.67594, 12.56553], [55.67594, 12.56553], [55.67594, 12.56553], [55.67594, 12.56553], [55.67594, 12.56553], [55.67594, 12.56553], [55.67594, 12.56553], [55.67594, 12.56553], [55.67594, 12.56553], [55.67594, 12.56553], [55.67594, 12.56553], [55.67594, 12.56553], [55.67594, 12.56553], [48.20849, 16.37208], [35.6895, 139.69171], [35.6895, 139.69171], [-36.84853, 174.76349], [-36.84853, 174.76349], [-36.84853, 174.76349], [-36.84853, 174.76349], [-36.84853, 174.76349], [-36.84853, 174.76349], [-36.84853, 174.76349], [-36.84853, 174.76349], [-36.84853, 174.76349], [31.22222, 121.45806], [31.22222, 121.45806]],\n",
       "                {&quot;blur&quot;: 15, &quot;maxZoom&quot;: 18, &quot;minOpacity&quot;: 0.5, &quot;radius&quot;: 25}\n",
       "            ).addTo(map_bf46346fc7d7936f531eb10c57c9698e);\n",
       "        \n",
       "&lt;/script&gt;\n",
       "&lt;/html&gt;\" style=\"position:absolute;width:100%;height:100%;left:0;top:0;border:none !important;\" allowfullscreen webkitallowfullscreen mozallowfullscreen></iframe></div></div>"
      ],
      "text/plain": [
       "<folium.folium.Map at 0x20a27b65e20>"
      ]
     },
     "metadata": {},
     "output_type": "display_data"
    }
   ],
   "source": [
    "df_geo = df.dropna(subset=['latitude', 'longitude'])\n",
    "\n",
    "gdf = gpd.GeoDataFrame(df_geo, geometry=gpd.points_from_xy(df_geo['longitude'], df['latitude']))\n",
    "\n",
    "m = folium.Map(location=[0, 0], zoom_start=2)\n",
    "\n",
    "from folium.plugins import HeatMap\n",
    "\n",
    "heat_data = [[point.xy[1][0], point.xy[0][0]] for point in gdf.geometry]\n",
    "HeatMap(heat_data).add_to(m)\n",
    "\n",
    "m.save('heatmap_airports_departure.html')\n",
    "display(m)"
   ]
  },
  {
   "cell_type": "code",
   "execution_count": 28,
   "id": "9f2f8111",
   "metadata": {},
   "outputs": [],
   "source": [
    "grouped_airlines = df.groupby('airlineName').size().reset_index(name='count').sort_values(\"count\", ascending = False)\n"
   ]
  },
  {
   "cell_type": "code",
   "execution_count": 58,
   "id": "0d134a7a",
   "metadata": {},
   "outputs": [
    {
     "data": {
      "text/html": [
       "<div>\n",
       "<style scoped>\n",
       "    .dataframe tbody tr th:only-of-type {\n",
       "        vertical-align: middle;\n",
       "    }\n",
       "\n",
       "    .dataframe tbody tr th {\n",
       "        vertical-align: top;\n",
       "    }\n",
       "\n",
       "    .dataframe thead th {\n",
       "        text-align: right;\n",
       "    }\n",
       "</style>\n",
       "<table border=\"1\" class=\"dataframe\">\n",
       "  <thead>\n",
       "    <tr style=\"text-align: right;\">\n",
       "      <th></th>\n",
       "      <th>airlineName</th>\n",
       "      <th>count</th>\n",
       "    </tr>\n",
       "  </thead>\n",
       "  <tbody>\n",
       "    <tr>\n",
       "      <th>49</th>\n",
       "      <td>SunExpress</td>\n",
       "      <td>7</td>\n",
       "    </tr>\n",
       "    <tr>\n",
       "      <th>22</th>\n",
       "      <td>Etihad Airways</td>\n",
       "      <td>5</td>\n",
       "    </tr>\n",
       "    <tr>\n",
       "      <th>16</th>\n",
       "      <td>Corendon Air</td>\n",
       "      <td>4</td>\n",
       "    </tr>\n",
       "    <tr>\n",
       "      <th>5</th>\n",
       "      <td>Air China LTD</td>\n",
       "      <td>4</td>\n",
       "    </tr>\n",
       "    <tr>\n",
       "      <th>41</th>\n",
       "      <td>SAS</td>\n",
       "      <td>4</td>\n",
       "    </tr>\n",
       "    <tr>\n",
       "      <th>43</th>\n",
       "      <td>Safair</td>\n",
       "      <td>4</td>\n",
       "    </tr>\n",
       "    <tr>\n",
       "      <th>0</th>\n",
       "      <td>AJet</td>\n",
       "      <td>3</td>\n",
       "    </tr>\n",
       "    <tr>\n",
       "      <th>38</th>\n",
       "      <td>Qantas</td>\n",
       "      <td>3</td>\n",
       "    </tr>\n",
       "    <tr>\n",
       "      <th>52</th>\n",
       "      <td>Turkish Airlines</td>\n",
       "      <td>3</td>\n",
       "    </tr>\n",
       "    <tr>\n",
       "      <th>9</th>\n",
       "      <td>Air New Zealand</td>\n",
       "      <td>3</td>\n",
       "    </tr>\n",
       "  </tbody>\n",
       "</table>\n",
       "</div>"
      ],
      "text/plain": [
       "         airlineName  count\n",
       "49        SunExpress      7\n",
       "22    Etihad Airways      5\n",
       "16      Corendon Air      4\n",
       "5      Air China LTD      4\n",
       "41               SAS      4\n",
       "43            Safair      4\n",
       "0               AJet      3\n",
       "38            Qantas      3\n",
       "52  Turkish Airlines      3\n",
       "9    Air New Zealand      3"
      ]
     },
     "execution_count": 58,
     "metadata": {},
     "output_type": "execute_result"
    }
   ],
   "source": [
    "grouped_airlines.head(10)"
   ]
  },
  {
   "cell_type": "code",
   "execution_count": 60,
   "id": "b3355648",
   "metadata": {},
   "outputs": [
    {
     "data": {
      "image/png": "[encoded data removed]",
      "text/plain": [
       "<Figure size 720x432 with 1 Axes>"
      ]
     },
     "metadata": {
      "needs_background": "light"
     },
     "output_type": "display_data"
    }
   ],
   "source": [
    "plt.figure(figsize=(10, 6))\n",
    "plt.bar(grouped_airlines['airlineName'].head(10), grouped_airlines['count'].head(10), color='skyblue')\n",
    "plt.xlabel('airlineName')\n",
    "plt.ylabel('Number of Flights')\n",
    "plt.title('Number of Flights per Airline')\n",
    "plt.xticks(rotation=45)\n",
    "plt.tight_layout()"
   ]
  },
  {
   "cell_type": "code",
   "execution_count": 29,
   "id": "bfecfdb2",
   "metadata": {},
   "outputs": [],
   "source": [
    "grouped_airport_departure = df.groupby('departureAirport').size().reset_index(name='count').sort_values(\"count\", ascending = False)\n"
   ]
  },
  {
   "cell_type": "code",
   "execution_count": 33,
   "id": "f94cb9f1",
   "metadata": {},
   "outputs": [
    {
     "data": {
      "text/html": [
       "<div>\n",
       "<style scoped>\n",
       "    .dataframe tbody tr th:only-of-type {\n",
       "        vertical-align: middle;\n",
       "    }\n",
       "\n",
       "    .dataframe tbody tr th {\n",
       "        vertical-align: top;\n",
       "    }\n",
       "\n",
       "    .dataframe thead th {\n",
       "        text-align: right;\n",
       "    }\n",
       "</style>\n",
       "<table border=\"1\" class=\"dataframe\">\n",
       "  <thead>\n",
       "    <tr style=\"text-align: right;\">\n",
       "      <th></th>\n",
       "      <th>departureAirport</th>\n",
       "      <th>airlineName</th>\n",
       "      <th>count</th>\n",
       "    </tr>\n",
       "  </thead>\n",
       "  <tbody>\n",
       "    <tr>\n",
       "      <th>20</th>\n",
       "      <td>Antalya</td>\n",
       "      <td>SunExpress</td>\n",
       "      <td>7</td>\n",
       "    </tr>\n",
       "    <tr>\n",
       "      <th>12</th>\n",
       "      <td>Antalya</td>\n",
       "      <td>Corendon Air</td>\n",
       "      <td>4</td>\n",
       "    </tr>\n",
       "    <tr>\n",
       "      <th>29</th>\n",
       "      <td>Cape Town International</td>\n",
       "      <td>Safair</td>\n",
       "      <td>4</td>\n",
       "    </tr>\n",
       "    <tr>\n",
       "      <th>50</th>\n",
       "      <td>Kastrup</td>\n",
       "      <td>SAS</td>\n",
       "      <td>3</td>\n",
       "    </tr>\n",
       "    <tr>\n",
       "      <th>5</th>\n",
       "      <td>Abu Dhabi International</td>\n",
       "      <td>Etihad Airways</td>\n",
       "      <td>3</td>\n",
       "    </tr>\n",
       "    <tr>\n",
       "      <th>...</th>\n",
       "      <td>...</td>\n",
       "      <td>...</td>\n",
       "      <td>...</td>\n",
       "    </tr>\n",
       "    <tr>\n",
       "      <th>39</th>\n",
       "      <td>Kastrup</td>\n",
       "      <td>Aegean Airlines</td>\n",
       "      <td>1</td>\n",
       "    </tr>\n",
       "    <tr>\n",
       "      <th>40</th>\n",
       "      <td>Kastrup</td>\n",
       "      <td>Aeromexico</td>\n",
       "      <td>1</td>\n",
       "    </tr>\n",
       "    <tr>\n",
       "      <th>41</th>\n",
       "      <td>Kastrup</td>\n",
       "      <td>Air Baltic</td>\n",
       "      <td>1</td>\n",
       "    </tr>\n",
       "    <tr>\n",
       "      <th>42</th>\n",
       "      <td>Kastrup</td>\n",
       "      <td>Air Europa</td>\n",
       "      <td>1</td>\n",
       "    </tr>\n",
       "    <tr>\n",
       "      <th>37</th>\n",
       "      <td>Junmachi</td>\n",
       "      <td>Fuji Dream Airlines</td>\n",
       "      <td>1</td>\n",
       "    </tr>\n",
       "  </tbody>\n",
       "</table>\n",
       "<p>75 rows × 3 columns</p>\n",
       "</div>"
      ],
      "text/plain": [
       "           departureAirport          airlineName  count\n",
       "20                  Antalya           SunExpress      7\n",
       "12                  Antalya         Corendon Air      4\n",
       "29  Cape Town International               Safair      4\n",
       "50                  Kastrup                  SAS      3\n",
       "5   Abu Dhabi International       Etihad Airways      3\n",
       "..                      ...                  ...    ...\n",
       "39                  Kastrup      Aegean Airlines      1\n",
       "40                  Kastrup           Aeromexico      1\n",
       "41                  Kastrup           Air Baltic      1\n",
       "42                  Kastrup           Air Europa      1\n",
       "37                 Junmachi  Fuji Dream Airlines      1\n",
       "\n",
       "[75 rows x 3 columns]"
      ]
     },
     "execution_count": 33,
     "metadata": {},
     "output_type": "execute_result"
    }
   ],
   "source": [
    "grouped_airline_departure"
   ]
  },
  {
   "cell_type": "code",
   "execution_count": 65,
   "id": "40127eb1",
   "metadata": {},
   "outputs": [
    {
     "data": {
      "image/png": "[encoded data removed]",
      "text/plain": [
       "<Figure size 720x432 with 1 Axes>"
      ]
     },
     "metadata": {
      "needs_background": "light"
     },
     "output_type": "display_data"
    }
   ],
   "source": [
    "plt.figure(figsize=(10, 6))\n",
    "plt.bar(grouped_airport_departure['departureAirport'].head(10), grouped_airport_departure['count'].head(10), color='skyblue')\n",
    "plt.xlabel('departureAirport')\n",
    "plt.ylabel('Number of Flights')\n",
    "plt.title('Number of Flights per airport')\n",
    "plt.xticks(rotation=45)\n",
    "plt.tight_layout()"
   ]
  },
  {
   "cell_type": "code",
   "execution_count": null,
   "id": "c9889561",
   "metadata": {},
   "outputs": [],
   "source": [
    "df['departureCity'] = df['departureTimezone'].apply(get_right_side_of_hyphen)\n"
   ]
  },
  {
   "cell_type": "code",
   "execution_count": 62,
   "id": "c03b3f52",
   "metadata": {},
   "outputs": [],
   "source": [
    "grouped_city_departure = df.groupby('departureCity').size().reset_index(name='count').sort_values(\"count\", ascending = False)\n"
   ]
  },
  {
   "cell_type": "code",
   "execution_count": 63,
   "id": "1a9000b1",
   "metadata": {},
   "outputs": [
    {
     "data": {
      "text/html": [
       "<div>\n",
       "<style scoped>\n",
       "    .dataframe tbody tr th:only-of-type {\n",
       "        vertical-align: middle;\n",
       "    }\n",
       "\n",
       "    .dataframe tbody tr th {\n",
       "        vertical-align: top;\n",
       "    }\n",
       "\n",
       "    .dataframe thead th {\n",
       "        text-align: right;\n",
       "    }\n",
       "</style>\n",
       "<table border=\"1\" class=\"dataframe\">\n",
       "  <thead>\n",
       "    <tr style=\"text-align: right;\">\n",
       "      <th></th>\n",
       "      <th>departureCity</th>\n",
       "      <th>count</th>\n",
       "    </tr>\n",
       "  </thead>\n",
       "  <tbody>\n",
       "    <tr>\n",
       "      <th>4</th>\n",
       "      <td>Istanbul</td>\n",
       "      <td>24</td>\n",
       "    </tr>\n",
       "    <tr>\n",
       "      <th>1</th>\n",
       "      <td>Copenhagen</td>\n",
       "      <td>17</td>\n",
       "    </tr>\n",
       "    <tr>\n",
       "      <th>3</th>\n",
       "      <td>Dubai</td>\n",
       "      <td>14</td>\n",
       "    </tr>\n",
       "    <tr>\n",
       "      <th>7</th>\n",
       "      <td>Madeira</td>\n",
       "      <td>10</td>\n",
       "    </tr>\n",
       "    <tr>\n",
       "      <th>0</th>\n",
       "      <td>Auckland</td>\n",
       "      <td>9</td>\n",
       "    </tr>\n",
       "    <tr>\n",
       "      <th>5</th>\n",
       "      <td>Johannesburg</td>\n",
       "      <td>8</td>\n",
       "    </tr>\n",
       "    <tr>\n",
       "      <th>8</th>\n",
       "      <td>Moscow</td>\n",
       "      <td>4</td>\n",
       "    </tr>\n",
       "    <tr>\n",
       "      <th>2</th>\n",
       "      <td>Darwin</td>\n",
       "      <td>3</td>\n",
       "    </tr>\n",
       "    <tr>\n",
       "      <th>6</th>\n",
       "      <td>Kolkata</td>\n",
       "      <td>2</td>\n",
       "    </tr>\n",
       "    <tr>\n",
       "      <th>9</th>\n",
       "      <td>Paris</td>\n",
       "      <td>2</td>\n",
       "    </tr>\n",
       "  </tbody>\n",
       "</table>\n",
       "</div>"
      ],
      "text/plain": [
       "  departureCity  count\n",
       "4      Istanbul     24\n",
       "1    Copenhagen     17\n",
       "3         Dubai     14\n",
       "7       Madeira     10\n",
       "0      Auckland      9\n",
       "5  Johannesburg      8\n",
       "8        Moscow      4\n",
       "2        Darwin      3\n",
       "6       Kolkata      2\n",
       "9         Paris      2"
      ]
     },
     "execution_count": 63,
     "metadata": {},
     "output_type": "execute_result"
    }
   ],
   "source": [
    "grouped_city_departure.head(10)"
   ]
  },
  {
   "cell_type": "code",
   "execution_count": 66,
   "id": "626abd1d",
   "metadata": {},
   "outputs": [
    {
     "data": {
      "image/png": "[encoded data removed]",
      "text/plain": [
       "<Figure size 720x432 with 1 Axes>"
      ]
     },
     "metadata": {
      "needs_background": "light"
     },
     "output_type": "display_data"
    }
   ],
   "source": [
    "plt.figure(figsize=(10, 6))\n",
    "plt.bar(grouped_city_departure['departureCity'].head(10), grouped_city_departure['count'].head(10), color='skyblue')\n",
    "plt.xlabel('departureCity')\n",
    "plt.ylabel('Number of Flights')\n",
    "plt.title('Number of Flights per city')\n",
    "plt.xticks(rotation=45)\n",
    "plt.tight_layout()"
   ]
  },
  {
   "cell_type": "code",
   "execution_count": 80,
   "id": "ff99d5ae",
   "metadata": {},
   "outputs": [],
   "source": [
    "airport_delays = df.groupby('departureAirport')['departureDelay'].sum().reset_index()\n",
    "airport_delays = airport_delays.sort_values(by='departureDelay', ascending=False)"
   ]
  },
  {
   "cell_type": "code",
   "execution_count": 81,
   "id": "40e0a7fc",
   "metadata": {},
   "outputs": [
    {
     "data": {
      "text/html": [
       "<div>\n",
       "<style scoped>\n",
       "    .dataframe tbody tr th:only-of-type {\n",
       "        vertical-align: middle;\n",
       "    }\n",
       "\n",
       "    .dataframe tbody tr th {\n",
       "        vertical-align: top;\n",
       "    }\n",
       "\n",
       "    .dataframe thead th {\n",
       "        text-align: right;\n",
       "    }\n",
       "</style>\n",
       "<table border=\"1\" class=\"dataframe\">\n",
       "  <thead>\n",
       "    <tr style=\"text-align: right;\">\n",
       "      <th></th>\n",
       "      <th>departureAirport</th>\n",
       "      <th>departureDelay</th>\n",
       "    </tr>\n",
       "  </thead>\n",
       "  <tbody>\n",
       "    <tr>\n",
       "      <th>1</th>\n",
       "      <td>Antalya</td>\n",
       "      <td>213</td>\n",
       "    </tr>\n",
       "    <tr>\n",
       "      <th>0</th>\n",
       "      <td>Abu Dhabi International</td>\n",
       "      <td>205</td>\n",
       "    </tr>\n",
       "    <tr>\n",
       "      <th>14</th>\n",
       "      <td>Nyingchi</td>\n",
       "      <td>80</td>\n",
       "    </tr>\n",
       "    <tr>\n",
       "      <th>8</th>\n",
       "      <td>Kastrup</td>\n",
       "      <td>30</td>\n",
       "    </tr>\n",
       "    <tr>\n",
       "      <th>18</th>\n",
       "      <td>Vienna International</td>\n",
       "      <td>11</td>\n",
       "    </tr>\n",
       "    <tr>\n",
       "      <th>17</th>\n",
       "      <td>Varna</td>\n",
       "      <td>6</td>\n",
       "    </tr>\n",
       "    <tr>\n",
       "      <th>11</th>\n",
       "      <td>Lesquin</td>\n",
       "      <td>0</td>\n",
       "    </tr>\n",
       "    <tr>\n",
       "      <th>16</th>\n",
       "      <td>Sydney Kingsford Smith Airport</td>\n",
       "      <td>0</td>\n",
       "    </tr>\n",
       "    <tr>\n",
       "      <th>15</th>\n",
       "      <td>Pulkovo</td>\n",
       "      <td>0</td>\n",
       "    </tr>\n",
       "    <tr>\n",
       "      <th>13</th>\n",
       "      <td>New Plymouth</td>\n",
       "      <td>0</td>\n",
       "    </tr>\n",
       "    <tr>\n",
       "      <th>12</th>\n",
       "      <td>Madeira</td>\n",
       "      <td>0</td>\n",
       "    </tr>\n",
       "    <tr>\n",
       "      <th>10</th>\n",
       "      <td>Le Bourget</td>\n",
       "      <td>0</td>\n",
       "    </tr>\n",
       "    <tr>\n",
       "      <th>9</th>\n",
       "      <td>Kings Creek Station</td>\n",
       "      <td>0</td>\n",
       "    </tr>\n",
       "    <tr>\n",
       "      <th>7</th>\n",
       "      <td>Junmachi</td>\n",
       "      <td>0</td>\n",
       "    </tr>\n",
       "    <tr>\n",
       "      <th>6</th>\n",
       "      <td>Hawkes Bay</td>\n",
       "      <td>0</td>\n",
       "    </tr>\n",
       "    <tr>\n",
       "      <th>5</th>\n",
       "      <td>Connellan</td>\n",
       "      <td>0</td>\n",
       "    </tr>\n",
       "    <tr>\n",
       "      <th>4</th>\n",
       "      <td>Cape Town International</td>\n",
       "      <td>0</td>\n",
       "    </tr>\n",
       "    <tr>\n",
       "      <th>3</th>\n",
       "      <td>Borjhar</td>\n",
       "      <td>0</td>\n",
       "    </tr>\n",
       "    <tr>\n",
       "      <th>2</th>\n",
       "      <td>Auckland International</td>\n",
       "      <td>0</td>\n",
       "    </tr>\n",
       "    <tr>\n",
       "      <th>19</th>\n",
       "      <td>Vnukovo</td>\n",
       "      <td>0</td>\n",
       "    </tr>\n",
       "  </tbody>\n",
       "</table>\n",
       "</div>"
      ],
      "text/plain": [
       "                  departureAirport  departureDelay\n",
       "1                          Antalya             213\n",
       "0          Abu Dhabi International             205\n",
       "14                        Nyingchi              80\n",
       "8                          Kastrup              30\n",
       "18            Vienna International              11\n",
       "17                           Varna               6\n",
       "11                         Lesquin               0\n",
       "16  Sydney Kingsford Smith Airport               0\n",
       "15                         Pulkovo               0\n",
       "13                    New Plymouth               0\n",
       "12                         Madeira               0\n",
       "10                      Le Bourget               0\n",
       "9              Kings Creek Station               0\n",
       "7                         Junmachi               0\n",
       "6                       Hawkes Bay               0\n",
       "5                        Connellan               0\n",
       "4          Cape Town International               0\n",
       "3                          Borjhar               0\n",
       "2           Auckland International               0\n",
       "19                         Vnukovo               0"
      ]
     },
     "execution_count": 81,
     "metadata": {},
     "output_type": "execute_result"
    }
   ],
   "source": [
    "airport_delays"
   ]
  },
  {
   "cell_type": "code",
   "execution_count": 82,
   "id": "6db59b5e",
   "metadata": {},
   "outputs": [
    {
     "data": {
      "image/png": "[encoded data removed]",
      "text/plain": [
       "<Figure size 720x432 with 1 Axes>"
      ]
     },
     "metadata": {
      "needs_background": "light"
     },
     "output_type": "display_data"
    }
   ],
   "source": [
    "plt.figure(figsize=(10, 6))\n",
    "plt.bar(airport_delays['departureAirport'].head(6), airport_delays['departureDelay'].head(6), color='skyblue')\n",
    "plt.xlabel('departureAirport')\n",
    "plt.ylabel('Number of Flights')\n",
    "plt.title('Delays per airport')\n",
    "plt.xticks(rotation=45)\n",
    "plt.tight_layout()"
   ]
  },
  {
   "cell_type": "code",
   "execution_count": null,
   "id": "12f04038",
   "metadata": {},
   "outputs": [],
   "source": []
  }
 ],
 "metadata": {
  "kernelspec": {
   "display_name": "Python 3 (ipykernel)",
   "language": "python",
   "name": "python3"
  },
  "language_info": {
   "codemirror_mode": {
    "name": "ipython",
    "version": 3
   },
   "file_extension": ".py",
   "mimetype": "text/x-python",
   "name": "python",
   "nbconvert_exporter": "python",
   "pygments_lexer": "ipython3",
   "version": "3.9.12"
  }
 },
 "nbformat": 4,
 "nbformat_minor": 5
}
